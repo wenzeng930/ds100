{
 "cells": [
  {
   "cell_type": "code",
   "execution_count": 1,
   "metadata": {
    "deletable": false,
    "editable": false
   },
   "outputs": [
    {
     "name": "stdout",
     "output_type": "stream",
     "text": [
      "=====================================================================\n",
      "Assignment: lab13\n",
      "OK, version v1.13.11\n",
      "=====================================================================\n",
      "\n"
     ]
    }
   ],
   "source": [
    "# Initialize OK\n",
    "from client.api.notebook import Notebook\n",
    "ok = Notebook('lab13.ok')"
   ]
  },
  {
   "cell_type": "markdown",
   "metadata": {},
   "source": [
    "# Lab 13: Scraping and Parsing Data \n",
    "\n",
    "In this lab, you will get exposure to some basic tools for manipulating hierarchical data structures pulled from the web.\n",
    "\n",
    "### Due Date \n",
    "This assignment is due on **Monday, November 18 at 11:59pm**.\n",
    "\n",
    "### Collaboration Policy\n",
    "Data science is a collaborative activity. While you may talk with others about this assignment, we ask that you **write your solutions individually**. If you discuss the assignment with others, please **include their names** in the cell below."
   ]
  },
  {
   "cell_type": "code",
   "execution_count": 2,
   "metadata": {},
   "outputs": [],
   "source": [
    "# Run this cell to set up your notebook\n",
    "import requests\n",
    "from lxml import html\n",
    "from lxml import etree\n",
    "import numpy as np\n",
    "\n",
    "from bs4 import BeautifulSoup\n",
    "\n",
    "import pandas as pd\n",
    "import seaborn as sns\n",
    "import matplotlib.pyplot as plt\n",
    "%matplotlib inline\n",
    "\n",
    "from pandas.plotting import register_matplotlib_converters\n",
    "register_matplotlib_converters()"
   ]
  },
  {
   "cell_type": "markdown",
   "metadata": {},
   "source": [
    "## Question 1\n",
    "\n",
    "In this question we work with a string containing mock XML data to get practice with writing XPath expressions. Note that it is similar to the file used in class, but the tag names are capitalized (and XML is case sensitive)."
   ]
  },
  {
   "cell_type": "code",
   "execution_count": 3,
   "metadata": {},
   "outputs": [
    {
     "data": {
      "text/plain": [
       "['Bloodroot', 'Goatsbeard']"
      ]
     },
     "execution_count": 3,
     "metadata": {},
     "output_type": "execute_result"
    }
   ],
   "source": [
    "# string containing XML data\n",
    "plantData = '''\n",
    "<CATALOG YEAR=\"2017\">\n",
    "    <PLANT>\n",
    "        <COMMON>Bloodroot</COMMON>\n",
    "        <BOTANICAL>Sanguinaria canadensis</BOTANICAL>\n",
    "        <ZONE>4</ZONE>\n",
    "        <LIGHT>Mostly Shady</LIGHT>\n",
    "        <PRICE CURRENCY=\"USD\">2.44</PRICE>\n",
    "        <AVAILABILITY>031599</AVAILABILITY>\n",
    "    </PLANT>\n",
    "    <PLANT>\n",
    "        <COMMON>Columbine</COMMON>\n",
    "        <BOTANICAL>Aquilegia canadensis</BOTANICAL>\n",
    "        <ZONE>3</ZONE>\n",
    "        <LIGHT>Mostly Shady</LIGHT>\n",
    "        <PRICE CURRENCY=\"USD\">9.37</PRICE>\n",
    "        <AVAILABILITY>030699</AVAILABILITY>\n",
    "    </PLANT>\n",
    "    <PLANT>\n",
    "        <COMMON>Goatsbeard</COMMON>\n",
    "        <BOTANICAL>Tragopogon porrifolius</BOTANICAL>\n",
    "        <ZONE>4</ZONE>\n",
    "        <LIGHT>Full Shade</LIGHT>\n",
    "        <PRICE CURRENCY=\"euro\">6.31</PRICE>\n",
    "        <AVAILABILITY>080399</AVAILABILITY>\n",
    "    </PLANT>\n",
    "</CATALOG>'''\n",
    "\n",
    "# parse the data into an ElementTree\n",
    "root = etree.fromstring(plantData)\n",
    "\n",
    "# find the common name of the plants in zone 4\n",
    "commonName = root.xpath(\"./PLANT[ZONE/text() ='4']/COMMON/text()\")\n",
    "commonName"
   ]
  },
  {
   "cell_type": "markdown",
   "metadata": {
    "deletable": false,
    "editable": false
   },
   "source": [
    "### Question 1a\n",
    "\n",
    "Write an XPath expression to find the botanical names of every plant in the catalog.\n",
    "\n",
    "<!--\n",
    "BEGIN QUESTION\n",
    "name: q1a\n",
    "-->"
   ]
  },
  {
   "cell_type": "code",
   "execution_count": 4,
   "metadata": {
    "tags": [
     "solution"
    ]
   },
   "outputs": [
    {
     "data": {
      "text/plain": [
       "['Sanguinaria canadensis', 'Aquilegia canadensis', 'Tragopogon porrifolius']"
      ]
     },
     "execution_count": 4,
     "metadata": {},
     "output_type": "execute_result"
    }
   ],
   "source": [
    "botanicalNames = root.xpath('//PLANT/BOTANICAL/text()')\n",
    "botanicalNames"
   ]
  },
  {
   "cell_type": "code",
   "execution_count": 5,
   "metadata": {
    "deletable": false,
    "editable": false
   },
   "outputs": [
    {
     "name": "stdout",
     "output_type": "stream",
     "text": [
      "~~~~~~~~~~~~~~~~~~~~~~~~~~~~~~~~~~~~~~~~~~~~~~~~~~~~~~~~~~~~~~~~~~~~~\n",
      "Running tests\n",
      "\n",
      "---------------------------------------------------------------------\n",
      "Test summary\n",
      "    Passed: 1\n",
      "    Failed: 0\n",
      "[ooooooooook] 100.0% passed\n",
      "\n"
     ]
    }
   ],
   "source": [
    "ok.grade(\"q1a\");"
   ]
  },
  {
   "cell_type": "markdown",
   "metadata": {
    "deletable": false,
    "editable": false
   },
   "source": [
    "### Question 1b\n",
    "\n",
    "Write an XPath expression to find the common names of all plants that prefer mostly shady light.\n",
    "\n",
    "<!--\n",
    "BEGIN QUESTION\n",
    "name: q1b\n",
    "-->"
   ]
  },
  {
   "cell_type": "code",
   "execution_count": 6,
   "metadata": {
    "tags": [
     "solution"
    ]
   },
   "outputs": [
    {
     "data": {
      "text/plain": [
       "['Bloodroot', 'Columbine']"
      ]
     },
     "execution_count": 6,
     "metadata": {},
     "output_type": "execute_result"
    }
   ],
   "source": [
    "commonNameShady = root.xpath('//PLANT[LIGHT/text()=\"Mostly Shady\"]/COMMON/text()')\n",
    "commonNameShady"
   ]
  },
  {
   "cell_type": "code",
   "execution_count": 7,
   "metadata": {
    "deletable": false,
    "editable": false
   },
   "outputs": [
    {
     "name": "stdout",
     "output_type": "stream",
     "text": [
      "~~~~~~~~~~~~~~~~~~~~~~~~~~~~~~~~~~~~~~~~~~~~~~~~~~~~~~~~~~~~~~~~~~~~~\n",
      "Running tests\n",
      "\n",
      "---------------------------------------------------------------------\n",
      "Test summary\n",
      "    Passed: 1\n",
      "    Failed: 0\n",
      "[ooooooooook] 100.0% passed\n",
      "\n"
     ]
    }
   ],
   "source": [
    "ok.grade(\"q1b\");"
   ]
  },
  {
   "cell_type": "markdown",
   "metadata": {
    "deletable": false,
    "editable": false
   },
   "source": [
    "### Question 1c\n",
    "\n",
    "Find the price of every plant that has its price listed in US dollars.\n",
    "\n",
    "<!--\n",
    "BEGIN QUESTION\n",
    "name: q1c\n",
    "-->"
   ]
  },
  {
   "cell_type": "code",
   "execution_count": 8,
   "metadata": {
    "tags": [
     "solution"
    ]
   },
   "outputs": [
    {
     "data": {
      "text/plain": [
       "['2.44', '9.37']"
      ]
     },
     "execution_count": 8,
     "metadata": {},
     "output_type": "execute_result"
    }
   ],
   "source": [
    "price = root.xpath('//PLANT[PRICE[@CURRENCY=\"USD\"]]/PRICE/text()')\n",
    "price"
   ]
  },
  {
   "cell_type": "code",
   "execution_count": 9,
   "metadata": {
    "deletable": false,
    "editable": false
   },
   "outputs": [
    {
     "name": "stdout",
     "output_type": "stream",
     "text": [
      "~~~~~~~~~~~~~~~~~~~~~~~~~~~~~~~~~~~~~~~~~~~~~~~~~~~~~~~~~~~~~~~~~~~~~\n",
      "Running tests\n",
      "\n",
      "---------------------------------------------------------------------\n",
      "Test summary\n",
      "    Passed: 1\n",
      "    Failed: 0\n",
      "[ooooooooook] 100.0% passed\n",
      "\n"
     ]
    }
   ],
   "source": [
    "ok.grade(\"q1c\");"
   ]
  },
  {
   "cell_type": "markdown",
   "metadata": {},
   "source": [
    "## Question 2\n",
    "\n",
    "Below we collect information about the top grossing movies from the Wikipedia page: [List of highest-grossing films](https://en.wikipedia.org/wiki/List_of_highest-grossing_films). \n",
    "\n",
    " \n",
    "We begin by making an HTTP request using the `requests` library to retrieve the page contents, and then we use Beautiful Soup to parse this HTML content into a tree. "
   ]
  },
  {
   "cell_type": "code",
   "execution_count": 10,
   "metadata": {},
   "outputs": [],
   "source": [
    "url = 'https://en.wikipedia.org/wiki/List_of_highest-grossing_films'\n",
    "res = requests.get(url)\n",
    "soup = BeautifulSoup(res.content, \"html.parser\")"
   ]
  },
  {
   "cell_type": "markdown",
   "metadata": {},
   "source": [
    "Visit the page in a browser and look for the table with title \"High-grossing films by year of release\".  We want to extract the gross and the budget for each of these films. "
   ]
  },
  {
   "cell_type": "markdown",
   "metadata": {
    "deletable": false,
    "editable": false
   },
   "source": [
    "### Question 2a\n",
    "\n",
    "Use `find_all` in Beautiful Soup to locate all table nodes in the content.\n",
    "\n",
    "<!--\n",
    "BEGIN QUESTION\n",
    "name: q2a\n",
    "-->"
   ]
  },
  {
   "cell_type": "code",
   "execution_count": 11,
   "metadata": {
    "tags": [
     "solution"
    ]
   },
   "outputs": [],
   "source": [
    "tabs = soup.find_all('table')"
   ]
  },
  {
   "cell_type": "code",
   "execution_count": 12,
   "metadata": {
    "deletable": false,
    "editable": false
   },
   "outputs": [
    {
     "name": "stdout",
     "output_type": "stream",
     "text": [
      "~~~~~~~~~~~~~~~~~~~~~~~~~~~~~~~~~~~~~~~~~~~~~~~~~~~~~~~~~~~~~~~~~~~~~\n",
      "Running tests\n",
      "\n",
      "---------------------------------------------------------------------\n",
      "q2a > Suite 1 > Case 1\n",
      "\n",
      ">>> len(tabs)\n",
      "92\n",
      "\n",
      "# Error: expected\n",
      "#     95\n",
      "# but got\n",
      "#     92\n",
      "\n",
      "Run only this test case with \"python3 ok -q q2a --suite 1 --case 1\"\n",
      "---------------------------------------------------------------------\n",
      "Test summary\n",
      "    Passed: 0\n",
      "    Failed: 1\n",
      "[k..........] 0.0% passed\n",
      "\n"
     ]
    }
   ],
   "source": [
    "ok.grade(\"q2a\");"
   ]
  },
  {
   "cell_type": "markdown",
   "metadata": {
    "deletable": false,
    "editable": false
   },
   "source": [
    "### Question 2b\n",
    "\n",
    "We found nearly 100 tables! We will have to use another approach to find the table that we are interested in. \n",
    "\n",
    "Return to the web page and view the source. Search in the raw HTML for the table that we want. Notice that it has some features that uniquely identify it.  For example, \n",
    "\n",
    "+ it has an `a` node with an href attribute value of \"/wiki/1915_in_film\"\n",
    "+ it has a caption with text content \"High-grossing films by year of release\"\n",
    "+ it has an `a` node with a title attribute value of \"1915 in film\"\n",
    "\n",
    "Use the identifying features to locate the table. Note that once you locate the `a` node, then you will need to reverse up the tree a few levels to the tbody or the table node.\n",
    "\n",
    "<!--\n",
    "BEGIN QUESTION\n",
    "name: q2b\n",
    "-->"
   ]
  },
  {
   "cell_type": "code",
   "execution_count": 13,
   "metadata": {
    "tags": [
     "solution"
    ]
   },
   "outputs": [],
   "source": [
    "tbody = soup.find('a', href = \"/wiki/1915_in_film\").parent.parent.parent"
   ]
  },
  {
   "cell_type": "code",
   "execution_count": 14,
   "metadata": {
    "deletable": false,
    "editable": false
   },
   "outputs": [
    {
     "name": "stdout",
     "output_type": "stream",
     "text": [
      "~~~~~~~~~~~~~~~~~~~~~~~~~~~~~~~~~~~~~~~~~~~~~~~~~~~~~~~~~~~~~~~~~~~~~\n",
      "Running tests\n",
      "\n",
      "---------------------------------------------------------------------\n",
      "Test summary\n",
      "    Passed: 1\n",
      "    Failed: 0\n",
      "[ooooooooook] 100.0% passed\n",
      "\n"
     ]
    }
   ],
   "source": [
    "ok.grade(\"q2b\");"
   ]
  },
  {
   "cell_type": "markdown",
   "metadata": {
    "deletable": false,
    "editable": false
   },
   "source": [
    "### Question 2c\n",
    "\n",
    "Locate all of the rows in the table and assign them to `rowSoup`. \n",
    "Then extract the information from the worldwide gross and budget `td` cells from each row.\n",
    "Place these in `grossSoup` and `budgetSoup`, respectively.\n",
    "\n",
    "<!--\n",
    "BEGIN QUESTION\n",
    "name: q2c\n",
    "-->"
   ]
  },
  {
   "cell_type": "code",
   "execution_count": 15,
   "metadata": {
    "tags": [
     "solution"
    ]
   },
   "outputs": [],
   "source": [
    "rowSoup = tabs[2].find_all('tr')\n",
    "budgetSoup = []\n",
    "grossSoup = []\n",
    "for r in rowSoup[1:]:\n",
    "    tds = r.find_all('td')\n",
    "    budgetSoup.append(tds[2].text)\n",
    "    grossSoup.append(tds[1].text)"
   ]
  },
  {
   "cell_type": "code",
   "execution_count": 16,
   "metadata": {
    "deletable": false,
    "editable": false
   },
   "outputs": [
    {
     "name": "stdout",
     "output_type": "stream",
     "text": [
      "~~~~~~~~~~~~~~~~~~~~~~~~~~~~~~~~~~~~~~~~~~~~~~~~~~~~~~~~~~~~~~~~~~~~~\n",
      "Running tests\n",
      "\n",
      "---------------------------------------------------------------------\n",
      "Test summary\n",
      "    Passed: 1\n",
      "    Failed: 0\n",
      "[ooooooooook] 100.0% passed\n",
      "\n"
     ]
    }
   ],
   "source": [
    "ok.grade(\"q2c\");"
   ]
  },
  {
   "cell_type": "markdown",
   "metadata": {
    "deletable": false,
    "editable": false
   },
   "source": [
    "### Question 2d\n",
    "\n",
    "Now that you have extracted these features from the table.\n",
    "Put them in a DataFrame called `films`, clean them, and convert them to numeric fields. \n",
    "\n",
    "Notice that the amounts have $-signs and commas.\n",
    "In addition some of the values have ranges, asterisks, letters.\n",
    "To keep things simple, use regular expressions to eliminate all of the literals past the first amount. You will also need to eliminate the dollar signs and commas, too. \n",
    "\n",
    "\n",
    "**Hint**: you can use `pd.to_numeric()`\n",
    "\n",
    "<!--\n",
    "BEGIN QUESTION\n",
    "name: q2d\n",
    "-->"
   ]
  },
  {
   "cell_type": "code",
   "execution_count": 17,
   "metadata": {},
   "outputs": [],
   "source": [
    "import re\n",
    "budget = pd.Series(budgetSoup).str.replace(',', '')\n",
    "budget = budget.str.extract(r'\\$([\\d]+)').rename(columns={0: \"budget\"})\n",
    "gross= pd.Series(grossSoup).str.replace(',', '')\n",
    "gross = gross.str.extract(r'\\$([\\d]+)').rename(columns={0: \"gross\"})\n",
    "gross = pd.to_numeric(gross['gross'])\n",
    "budget = pd.to_numeric(budget['budget'])"
   ]
  },
  {
   "cell_type": "code",
   "execution_count": 18,
   "metadata": {},
   "outputs": [
    {
     "data": {
      "text/html": [
       "<div>\n",
       "<style scoped>\n",
       "    .dataframe tbody tr th:only-of-type {\n",
       "        vertical-align: middle;\n",
       "    }\n",
       "\n",
       "    .dataframe tbody tr th {\n",
       "        vertical-align: top;\n",
       "    }\n",
       "\n",
       "    .dataframe thead th {\n",
       "        text-align: right;\n",
       "    }\n",
       "</style>\n",
       "<table border=\"1\" class=\"dataframe\">\n",
       "  <thead>\n",
       "    <tr style=\"text-align: right;\">\n",
       "      <th></th>\n",
       "      <th>gross</th>\n",
       "      <th>budget</th>\n",
       "    </tr>\n",
       "  </thead>\n",
       "  <tbody>\n",
       "    <tr>\n",
       "      <th>0</th>\n",
       "      <td>50000000</td>\n",
       "      <td>110000</td>\n",
       "    </tr>\n",
       "    <tr>\n",
       "      <th>1</th>\n",
       "      <td>1000000</td>\n",
       "      <td>489653</td>\n",
       "    </tr>\n",
       "    <tr>\n",
       "      <th>2</th>\n",
       "      <td>500000</td>\n",
       "      <td>300000</td>\n",
       "    </tr>\n",
       "    <tr>\n",
       "      <th>3</th>\n",
       "      <td>8000000</td>\n",
       "      <td>250000</td>\n",
       "    </tr>\n",
       "    <tr>\n",
       "      <th>4</th>\n",
       "      <td>3000000</td>\n",
       "      <td>120000</td>\n",
       "    </tr>\n",
       "    <tr>\n",
       "      <th>5</th>\n",
       "      <td>5000000</td>\n",
       "      <td>800000</td>\n",
       "    </tr>\n",
       "    <tr>\n",
       "      <th>6</th>\n",
       "      <td>5000000</td>\n",
       "      <td>600000</td>\n",
       "    </tr>\n",
       "    <tr>\n",
       "      <th>7</th>\n",
       "      <td>2500000</td>\n",
       "      <td>930042</td>\n",
       "    </tr>\n",
       "    <tr>\n",
       "      <th>8</th>\n",
       "      <td>5000000</td>\n",
       "      <td>800000</td>\n",
       "    </tr>\n",
       "    <tr>\n",
       "      <th>9</th>\n",
       "      <td>3000000</td>\n",
       "      <td>700000</td>\n",
       "    </tr>\n",
       "    <tr>\n",
       "      <th>10</th>\n",
       "      <td>18000000</td>\n",
       "      <td>382000</td>\n",
       "    </tr>\n",
       "    <tr>\n",
       "      <th>11</th>\n",
       "      <td>10738000</td>\n",
       "      <td>3967000</td>\n",
       "    </tr>\n",
       "    <tr>\n",
       "      <th>12</th>\n",
       "      <td>2600000</td>\n",
       "      <td>150000</td>\n",
       "    </tr>\n",
       "    <tr>\n",
       "      <th>13</th>\n",
       "      <td>3600000</td>\n",
       "      <td>2000000</td>\n",
       "    </tr>\n",
       "    <tr>\n",
       "      <th>14</th>\n",
       "      <td>5900000</td>\n",
       "      <td>388000</td>\n",
       "    </tr>\n",
       "    <tr>\n",
       "      <th>15</th>\n",
       "      <td>4400000</td>\n",
       "      <td>379000</td>\n",
       "    </tr>\n",
       "    <tr>\n",
       "      <th>16</th>\n",
       "      <td>3500000</td>\n",
       "      <td>600000</td>\n",
       "    </tr>\n",
       "    <tr>\n",
       "      <th>17</th>\n",
       "      <td>3000000</td>\n",
       "      <td>1250000</td>\n",
       "    </tr>\n",
       "    <tr>\n",
       "      <th>18</th>\n",
       "      <td>12000000</td>\n",
       "      <td>250000</td>\n",
       "    </tr>\n",
       "    <tr>\n",
       "      <th>19</th>\n",
       "      <td>5000000</td>\n",
       "      <td>1607351</td>\n",
       "    </tr>\n",
       "  </tbody>\n",
       "</table>\n",
       "</div>"
      ],
      "text/plain": [
       "       gross   budget\n",
       "0   50000000   110000\n",
       "1    1000000   489653\n",
       "2     500000   300000\n",
       "3    8000000   250000\n",
       "4    3000000   120000\n",
       "5    5000000   800000\n",
       "6    5000000   600000\n",
       "7    2500000   930042\n",
       "8    5000000   800000\n",
       "9    3000000   700000\n",
       "10  18000000   382000\n",
       "11  10738000  3967000\n",
       "12   2600000   150000\n",
       "13   3600000  2000000\n",
       "14   5900000   388000\n",
       "15   4400000   379000\n",
       "16   3500000   600000\n",
       "17   3000000  1250000\n",
       "18  12000000   250000\n",
       "19   5000000  1607351"
      ]
     },
     "execution_count": 18,
     "metadata": {},
     "output_type": "execute_result"
    }
   ],
   "source": [
    "films = pd.concat([gross, budget], axis=1)\n",
    "films.head(20)"
   ]
  },
  {
   "cell_type": "code",
   "execution_count": 19,
   "metadata": {
    "deletable": false,
    "editable": false
   },
   "outputs": [
    {
     "name": "stdout",
     "output_type": "stream",
     "text": [
      "~~~~~~~~~~~~~~~~~~~~~~~~~~~~~~~~~~~~~~~~~~~~~~~~~~~~~~~~~~~~~~~~~~~~~\n",
      "Running tests\n",
      "\n",
      "---------------------------------------------------------------------\n",
      "Test summary\n",
      "    Passed: 1\n",
      "    Failed: 0\n",
      "[ooooooooook] 100.0% passed\n",
      "\n"
     ]
    }
   ],
   "source": [
    "ok.grade(\"q2d\");"
   ]
  },
  {
   "cell_type": "markdown",
   "metadata": {
    "deletable": false,
    "editable": false
   },
   "source": [
    "### Question 2e\n",
    "\n",
    "Make a scatter plot of gross against budget. Use log scale for both the x and y axes.\n",
    "\n",
    "<!--\n",
    "BEGIN QUESTION\n",
    "name: q2e\n",
    "-->"
   ]
  },
  {
   "cell_type": "code",
   "execution_count": 20,
   "metadata": {},
   "outputs": [],
   "source": [
    "films['budget'] = np.log(films['budget'])\n",
    "films['gross'] = np.log(films['gross'])"
   ]
  },
  {
   "cell_type": "code",
   "execution_count": 21,
   "metadata": {
    "tags": [
     "solution"
    ]
   },
   "outputs": [
    {
     "data": {
      "text/plain": [
       "<matplotlib.axes._subplots.AxesSubplot at 0x7f3a2aa579e8>"
      ]
     },
     "execution_count": 21,
     "metadata": {},
     "output_type": "execute_result"
    },
    {
     "data": {
      "text/plain": [
       "<Figure size 1296x432 with 0 Axes>"
      ]
     },
     "metadata": {},
     "output_type": "display_data"
    },
    {
     "data": {
      "image/png": "[encoded data removed]",
      "text/plain": [
       "<Figure size 432x288 with 1 Axes>"
      ]
     },
     "metadata": {
      "needs_background": "light"
     },
     "output_type": "display_data"
    }
   ],
   "source": [
    "plt.figure(figsize=(18,6))\n",
    "films['budget'] = np.log(films['budget'])\n",
    "films.plot.scatter(x='budget', y='gross')"
   ]
  },
  {
   "cell_type": "markdown",
   "metadata": {},
   "source": [
    "## Question 3\n",
    "\n",
    "We will use the `lxml` module to read exchange rates (against the euro) from the European Central Bank and create a time series plot showing how the rates for three currencies–the British pound (GBP), the US dollar (USD), and the Canadian dollar (CAD)–have changed over time.\n",
    "\n",
    "Before jumping to the code portion, visit this URL:\n",
    "https://www.ecb.europa.eu/stats/eurofxref/eurofxref-daily.xml\n",
    "\n",
    "This URL provides an example of the structure of the XML document with the exchange rates. Where do you see the currency and rate? What about the time? How deep is the tree?\n",
    "\n",
    "The above link provides the daily conversion rates. Below we provide the `url` of the recorded history, over 4,800 days. Run the following code to send a request for the content at this url. "
   ]
  },
  {
   "cell_type": "code",
   "execution_count": 22,
   "metadata": {
    "tags": [
     "student"
    ]
   },
   "outputs": [],
   "source": [
    "url = 'https://www.ecb.europa.eu/stats/eurofxref/eurofxref-hist-90d.xml?d574942462c9e687c3235ce020466aae'\n",
    "resECB = requests.get(url)"
   ]
  },
  {
   "cell_type": "markdown",
   "metadata": {},
   "source": [
    "Let's check the status code of the request."
   ]
  },
  {
   "cell_type": "code",
   "execution_count": 23,
   "metadata": {},
   "outputs": [
    {
     "data": {
      "text/plain": [
       "200"
      ]
     },
     "execution_count": 23,
     "metadata": {},
     "output_type": "execute_result"
    }
   ],
   "source": [
    "resECB.status_code"
   ]
  },
  {
   "cell_type": "markdown",
   "metadata": {},
   "source": [
    "Now, let's examine the content of the response to see if it looks similar to the example from above. (We will just look at the first 1000 characters.)"
   ]
  },
  {
   "cell_type": "code",
   "execution_count": 24,
   "metadata": {},
   "outputs": [
    {
     "data": {
      "text/plain": [
       "b'<?xml version=\"1.0\" encoding=\"UTF-8\"?><gesmes:Envelope xmlns:gesmes=\"http://www.gesmes.org/xml/2002-08-01\" xmlns=\"http://www.ecb.int/vocabulary/2002-08-01/eurofxref\"><gesmes:subject>Reference rates</gesmes:subject><gesmes:Sender><gesmes:name>European Central Bank</gesmes:name></gesmes:Sender><Cube><Cube time=\"2019-12-24\"><Cube currency=\"USD\" rate=\"1.108\"/><Cube currency=\"JPY\" rate=\"121.19\"/><Cube currency=\"BGN\" rate=\"1.9558\"/><Cube currency=\"CZK\" rate=\"25.485\"/><Cube currency=\"DKK\" rate=\"7.4712\"/><Cube currency=\"GBP\" rate=\"0.85533\"/><Cube currency=\"HUF\" rate=\"331.76\"/><Cube currency=\"PLN\" rate=\"4.2598\"/><Cube currency=\"RON\" rate=\"4.779\"/><Cube currency=\"SEK\" rate=\"10.4553\"/><Cube currency=\"CHF\" rate=\"1.0878\"/><Cube currency=\"ISK\" rate=\"135.6\"/><Cube currency=\"NOK\" rate=\"9.9118\"/><Cube currency=\"HRK\" rate=\"7.4455\"/><Cube currency=\"RUB\" rate=\"68.7932\"/><Cube currency=\"TRY\" rate=\"6.5994\"/><Cube currency=\"AUD\" rate=\"1.6019\"/><Cube currency=\"BRL\" rate=\"4.5246\"/><Cube currency=\"CAD\" rate=\"1.'"
      ]
     },
     "execution_count": 24,
     "metadata": {},
     "output_type": "execute_result"
    }
   ],
   "source": [
    "resECB.content[:1000]"
   ]
  },
  {
   "cell_type": "markdown",
   "metadata": {
    "deletable": false,
    "editable": false
   },
   "source": [
    "### Question 3a\n",
    "\n",
    "Use `etree.fromstring` to parse the content into a tree and assign it to `root`.\n",
    "\n",
    "<!--\n",
    "BEGIN QUESTION\n",
    "name: q3a\n",
    "-->"
   ]
  },
  {
   "cell_type": "code",
   "execution_count": 25,
   "metadata": {
    "tags": [
     "solution"
    ]
   },
   "outputs": [],
   "source": [
    "root = etree.fromstring(resECB.content)"
   ]
  },
  {
   "cell_type": "code",
   "execution_count": 26,
   "metadata": {
    "deletable": false,
    "editable": false
   },
   "outputs": [
    {
     "name": "stdout",
     "output_type": "stream",
     "text": [
      "~~~~~~~~~~~~~~~~~~~~~~~~~~~~~~~~~~~~~~~~~~~~~~~~~~~~~~~~~~~~~~~~~~~~~\n",
      "Running tests\n",
      "\n",
      "---------------------------------------------------------------------\n",
      "Test summary\n",
      "    Passed: 1\n",
      "    Failed: 0\n",
      "[ooooooooook] 100.0% passed\n",
      "\n"
     ]
    }
   ],
   "source": [
    "ok.grade(\"q3a\");"
   ]
  },
  {
   "cell_type": "markdown",
   "metadata": {},
   "source": [
    "### Question 3b\n",
    "\n",
    "Notice that the `Envelope` tag comes has an attribute called `xmlns`. This refers to the *namespace*, an unique identifier for the element. The namespace in this case is a reference to `gesmes`, an international standard for the exchange of time series information. Here is how we specify the namespace of an element in XPath:"
   ]
  },
  {
   "cell_type": "code",
   "execution_count": 27,
   "metadata": {},
   "outputs": [
    {
     "data": {
      "text/plain": [
       "['0.85533', '0.85708', '0.85133', '0.85073', '0.85055']"
      ]
     },
     "execution_count": 27,
     "metadata": {},
     "output_type": "execute_result"
    }
   ],
   "source": [
    "namespaceURI = 'http://www.ecb.int/vocabulary/2002-08-01/eurofxref'\n",
    "rateGBP = root.xpath('.//x:Cube[@currency = \"GBP\"]/@rate', namespaces = {'x':namespaceURI})\n",
    "rateGBP[:5]"
   ]
  },
  {
   "cell_type": "markdown",
   "metadata": {
    "deletable": false,
    "editable": false
   },
   "source": [
    "The result of `rateGBP` contains a list the daily exchange rates for British Pounds to Euros. Write an XPath query to get the list of dates. It should return a list of the same length as `rateGBP`.\n",
    "\n",
    "<!--\n",
    "BEGIN QUESTION\n",
    "name: q3b\n",
    "-->"
   ]
  },
  {
   "cell_type": "code",
   "execution_count": 28,
   "metadata": {
    "tags": [
     "solution"
    ]
   },
   "outputs": [
    {
     "data": {
      "text/plain": [
       "['2019-12-24', '2019-12-23', '2019-12-20', '2019-12-19', '2019-12-18']"
      ]
     },
     "execution_count": 28,
     "metadata": {},
     "output_type": "execute_result"
    }
   ],
   "source": [
    "date = root.xpath('.//x:Cube/@time', namespaces = {'x':namespaceURI}) # SOLUTION\n",
    "date[:5]"
   ]
  },
  {
   "cell_type": "code",
   "execution_count": 29,
   "metadata": {
    "deletable": false,
    "editable": false
   },
   "outputs": [
    {
     "name": "stdout",
     "output_type": "stream",
     "text": [
      "~~~~~~~~~~~~~~~~~~~~~~~~~~~~~~~~~~~~~~~~~~~~~~~~~~~~~~~~~~~~~~~~~~~~~\n",
      "Running tests\n",
      "\n",
      "---------------------------------------------------------------------\n",
      "Test summary\n",
      "    Passed: 1\n",
      "    Failed: 0\n",
      "[ooooooooook] 100.0% passed\n",
      "\n"
     ]
    }
   ],
   "source": [
    "ok.grade(\"q3b\");"
   ]
  },
  {
   "cell_type": "markdown",
   "metadata": {
    "deletable": false,
    "editable": false
   },
   "source": [
    "### Question 3c\n",
    "\n",
    "In addition to the GBP, also extract the exchange rates for the USD and CAD.\n",
    "Call these `rateUSD` and `rateCAD`, respectively.\n",
    "\n",
    "<!--\n",
    "BEGIN QUESTION\n",
    "name: q3c\n",
    "-->"
   ]
  },
  {
   "cell_type": "code",
   "execution_count": 30,
   "metadata": {},
   "outputs": [],
   "source": [
    "rateUSD = root.xpath('.//x:Cube[@currency = \"USD\"]/@rate', namespaces = {'x':namespaceURI})\n",
    "rateCAD = root.xpath('.//x:Cube[@currency = \"CAD\"]/@rate', namespaces = {'x':namespaceURI})"
   ]
  },
  {
   "cell_type": "code",
   "execution_count": 31,
   "metadata": {
    "deletable": false,
    "editable": false
   },
   "outputs": [
    {
     "name": "stdout",
     "output_type": "stream",
     "text": [
      "~~~~~~~~~~~~~~~~~~~~~~~~~~~~~~~~~~~~~~~~~~~~~~~~~~~~~~~~~~~~~~~~~~~~~\n",
      "Running tests\n",
      "\n",
      "---------------------------------------------------------------------\n",
      "Test summary\n",
      "    Passed: 1\n",
      "    Failed: 0\n",
      "[ooooooooook] 100.0% passed\n",
      "\n"
     ]
    }
   ],
   "source": [
    "ok.grade(\"q3c\");"
   ]
  },
  {
   "cell_type": "markdown",
   "metadata": {
    "deletable": false,
    "editable": false
   },
   "source": [
    "### Question 3d\n",
    "\n",
    "Collect these three exchange rates and the dates (in the order `rateGBP`, `rateUSD`, `rateCAD`, and `date`) into a DataFrame called `exchange_rates` and convert them to appropriate data types for plotting.\n",
    "\n",
    "<!--\n",
    "BEGIN QUESTION\n",
    "name: q3d\n",
    "-->"
   ]
  },
  {
   "cell_type": "code",
   "execution_count": 32,
   "metadata": {},
   "outputs": [
    {
     "data": {
      "text/html": [
       "<div>\n",
       "<style scoped>\n",
       "    .dataframe tbody tr th:only-of-type {\n",
       "        vertical-align: middle;\n",
       "    }\n",
       "\n",
       "    .dataframe tbody tr th {\n",
       "        vertical-align: top;\n",
       "    }\n",
       "\n",
       "    .dataframe thead th {\n",
       "        text-align: right;\n",
       "    }\n",
       "</style>\n",
       "<table border=\"1\" class=\"dataframe\">\n",
       "  <thead>\n",
       "    <tr style=\"text-align: right;\">\n",
       "      <th></th>\n",
       "      <th>rateGBP</th>\n",
       "      <th>rateUSD</th>\n",
       "      <th>rateCAD</th>\n",
       "      <th>date</th>\n",
       "    </tr>\n",
       "  </thead>\n",
       "  <tbody>\n",
       "    <tr>\n",
       "      <th>0</th>\n",
       "      <td>0.85533</td>\n",
       "      <td>1.1080</td>\n",
       "      <td>1.4582</td>\n",
       "      <td>2019-12-24</td>\n",
       "    </tr>\n",
       "    <tr>\n",
       "      <th>1</th>\n",
       "      <td>0.85708</td>\n",
       "      <td>1.1075</td>\n",
       "      <td>1.4577</td>\n",
       "      <td>2019-12-23</td>\n",
       "    </tr>\n",
       "    <tr>\n",
       "      <th>2</th>\n",
       "      <td>0.85133</td>\n",
       "      <td>1.1097</td>\n",
       "      <td>1.4579</td>\n",
       "      <td>2019-12-20</td>\n",
       "    </tr>\n",
       "    <tr>\n",
       "      <th>3</th>\n",
       "      <td>0.85073</td>\n",
       "      <td>1.1117</td>\n",
       "      <td>1.4588</td>\n",
       "      <td>2019-12-19</td>\n",
       "    </tr>\n",
       "    <tr>\n",
       "      <th>4</th>\n",
       "      <td>0.85055</td>\n",
       "      <td>1.1115</td>\n",
       "      <td>1.4624</td>\n",
       "      <td>2019-12-18</td>\n",
       "    </tr>\n",
       "  </tbody>\n",
       "</table>\n",
       "</div>"
      ],
      "text/plain": [
       "   rateGBP  rateUSD  rateCAD       date\n",
       "0  0.85533   1.1080   1.4582 2019-12-24\n",
       "1  0.85708   1.1075   1.4577 2019-12-23\n",
       "2  0.85133   1.1097   1.4579 2019-12-20\n",
       "3  0.85073   1.1117   1.4588 2019-12-19\n",
       "4  0.85055   1.1115   1.4624 2019-12-18"
      ]
     },
     "execution_count": 32,
     "metadata": {},
     "output_type": "execute_result"
    }
   ],
   "source": [
    "exchange_rates = pd.DataFrame({'rateGBP':rateGBP, 'rateUSD':rateUSD, 'rateCAD':rateCAD,'date':date}) # SOLUTION\n",
    "\n",
    "exchange_rates['date'] = pd.to_datetime(exchange_rates['date'], infer_datetime_format=True)\n",
    "exchange_rates['rateGBP'] = exchange_rates['rateGBP'].astype(float)\n",
    "exchange_rates['rateUSD'] = exchange_rates['rateUSD'].astype(float)\n",
    "exchange_rates['rateCAD'] = exchange_rates['rateCAD'].astype(float)\n",
    "\n",
    "exchange_rates.head()"
   ]
  },
  {
   "cell_type": "code",
   "execution_count": 33,
   "metadata": {
    "deletable": false,
    "editable": false
   },
   "outputs": [
    {
     "name": "stdout",
     "output_type": "stream",
     "text": [
      "~~~~~~~~~~~~~~~~~~~~~~~~~~~~~~~~~~~~~~~~~~~~~~~~~~~~~~~~~~~~~~~~~~~~~\n",
      "Running tests\n",
      "\n",
      "---------------------------------------------------------------------\n",
      "Test summary\n",
      "    Passed: 1\n",
      "    Failed: 0\n",
      "[ooooooooook] 100.0% passed\n",
      "\n"
     ]
    }
   ],
   "source": [
    "ok.grade(\"q3d\");"
   ]
  },
  {
   "cell_type": "markdown",
   "metadata": {
    "deletable": false,
    "editable": false
   },
   "source": [
    "### Question 3e\n",
    "\n",
    "Plot the exchange rate for three currencies---GBP, USD, and CAD---over time.\n",
    "\n",
    "<!--\n",
    "BEGIN QUESTION\n",
    "name: q3e\n",
    "-->"
   ]
  },
  {
   "cell_type": "code",
   "execution_count": 34,
   "metadata": {
    "tags": [
     "solution"
    ]
   },
   "outputs": [
    {
     "data": {
      "image/png": "[encoded data removed]",
      "text/plain": [
       "<Figure size 1296x432 with 1 Axes>"
      ]
     },
     "metadata": {
      "needs_background": "light"
     },
     "output_type": "display_data"
    }
   ],
   "source": [
    "plt.figure(figsize=(18,6))\n",
    "axs = sns.lineplot(y=exchange_rates['rateGBP'], x=exchange_rates['date'])\n",
    "axs = sns.lineplot(y=exchange_rates['rateUSD'], x=exchange_rates['date'])\n",
    "axs = sns.lineplot(y=exchange_rates['rateCAD'], x=exchange_rates['date'])"
   ]
  },
  {
   "cell_type": "markdown",
   "metadata": {},
   "source": [
    "# Make sure to complete Vitamin 13 on Gradescope by 11:59 PM on Monday, 11/18!"
   ]
  },
  {
   "cell_type": "markdown",
   "metadata": {
    "deletable": false,
    "editable": false
   },
   "source": [
    "# Submit\n",
    "Make sure you have run all cells in your notebook in order before running the cell below, so that all images/graphs appear in the output.\n",
    "**Please save before submitting!**"
   ]
  },
  {
   "cell_type": "code",
   "execution_count": null,
   "metadata": {
    "deletable": false,
    "editable": false
   },
   "outputs": [
    {
     "data": {
      "application/javascript": [
       "IPython.notebook.save_checkpoint();"
      ],
      "text/plain": [
       "<IPython.core.display.Javascript object>"
      ]
     },
     "metadata": {},
     "output_type": "display_data"
    },
    {
     "data": {
      "application/javascript": [
       "IPython.notebook.save_notebook();"
      ],
      "text/plain": [
       "<IPython.core.display.Javascript object>"
      ]
     },
     "metadata": {},
     "output_type": "display_data"
    },
    {
     "name": "stdout",
     "output_type": "stream",
     "text": [
      "Saving notebook... "
     ]
    },
    {
     "name": "stderr",
     "output_type": "stream",
     "text": [
      "ERROR  | auth.py:91 | {'error': 'invalid_grant'}\n"
     ]
    },
    {
     "name": "stdout",
     "output_type": "stream",
     "text": [
      "Saved 'lab13.ipynb'.\n",
      "Performing authentication\n",
      "Please enter your bCourses email.\n"
     ]
    }
   ],
   "source": [
    "# Save your notebook first, then run this cell to submit.\n",
    "ok.submit()"
   ]
  },
  {
   "cell_type": "code",
   "execution_count": null,
   "metadata": {},
   "outputs": [],
   "source": []
  }
 ],
 "metadata": {
  "kernelspec": {
   "display_name": "Python 3",
   "language": "python",
   "name": "python3"
  },
  "language_info": {
   "codemirror_mode": {
    "name": "ipython",
    "version": 3
   },
   "file_extension": ".py",
   "mimetype": "text/x-python",
   "name": "python",
   "nbconvert_exporter": "python",
   "pygments_lexer": "ipython3",
   "version": "3.6.4"
  }
 },
 "nbformat": 4,
 "nbformat_minor": 2
}
